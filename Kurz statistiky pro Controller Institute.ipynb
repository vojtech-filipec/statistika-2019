{
 "cells": [
  {
   "cell_type": "code",
   "execution_count": 1,
   "metadata": {},
   "outputs": [],
   "source": [
    "import pandas as pd\n",
    "from pandas.api.types import CategoricalDtype\n",
    "import matplotlib.pyplot as plt\n",
    "import random\n",
    "import numpy as np"
   ]
  },
  {
   "cell_type": "markdown",
   "metadata": {},
   "source": [
    "# Made-up data"
   ]
  },
  {
   "cell_type": "code",
   "execution_count": 14,
   "metadata": {},
   "outputs": [],
   "source": [
    "nrows = 2000"
   ]
  },
  {
   "cell_type": "code",
   "execution_count": 15,
   "metadata": {},
   "outputs": [],
   "source": [
    "datum = pd.date_range('2018-01-04', periods= nrows, freq='D')\n",
    "#datum.to_pydatetime()\n",
    "#datum.values"
   ]
  },
  {
   "cell_type": "code",
   "execution_count": 16,
   "metadata": {},
   "outputs": [
    {
     "data": {
      "text/plain": [
       "[136, 156, 163, 151]"
      ]
     },
     "execution_count": 16,
     "metadata": {},
     "output_type": "execute_result"
    }
   ],
   "source": [
    "customer_id = [random.randint(111,222) for x in range(nrows)]\n",
    "customer_id[:4]"
   ]
  },
  {
   "cell_type": "code",
   "execution_count": 17,
   "metadata": {},
   "outputs": [],
   "source": [
    "d = {'customer_id': customer_id,\n",
    "     'purchased_on': datum\n",
    "    }\n",
    "df = pd.DataFrame(data = d)"
   ]
  },
  {
   "cell_type": "code",
   "execution_count": 18,
   "metadata": {},
   "outputs": [
    {
     "data": {
      "text/plain": [
       "(2000, 2)"
      ]
     },
     "execution_count": 18,
     "metadata": {},
     "output_type": "execute_result"
    }
   ],
   "source": [
    "df.shape"
   ]
  },
  {
   "cell_type": "markdown",
   "metadata": {},
   "source": [
    "Generate origin so that one customer has always the same origin"
   ]
  },
  {
   "cell_type": "code",
   "execution_count": 19,
   "metadata": {},
   "outputs": [
    {
     "data": {
      "text/plain": [
       "customer_id                 int64\n",
       "purchased_on       datetime64[ns]\n",
       "customer_origin            object\n",
       "dtype: object"
      ]
     },
     "execution_count": 19,
     "metadata": {},
     "output_type": "execute_result"
    }
   ],
   "source": [
    "org = []\n",
    "for i in range(df.shape[0]):\n",
    "    md = df.iloc[i]['customer_id'] % 6\n",
    "    if md < 3:\n",
    "        org.append('urban')\n",
    "    elif md == 3:\n",
    "        org.append('capital')\n",
    "    elif md == 4:\n",
    "        org.append('rural')        \n",
    "    else:\n",
    "        org.append('misc')\n",
    "\n",
    "df['customer_origin'] = org\n",
    "df.dtypes"
   ]
  },
  {
   "cell_type": "code",
   "execution_count": 20,
   "metadata": {},
   "outputs": [
    {
     "data": {
      "text/plain": [
       "customer_id\n",
       "222    1\n",
       "221    1\n",
       "Name: customer_origin, dtype: int64"
      ]
     },
     "execution_count": 20,
     "metadata": {},
     "output_type": "execute_result"
    }
   ],
   "source": [
    "# one customer = one origin?\n",
    "df.groupby('customer_id').customer_origin.nunique().sort_values(ascending = False).head(2)"
   ]
  },
  {
   "cell_type": "markdown",
   "metadata": {},
   "source": [
    "Generate higher volumes for GOLD and SILVER segment."
   ]
  },
  {
   "cell_type": "code",
   "execution_count": 21,
   "metadata": {},
   "outputs": [
    {
     "data": {
      "text/plain": [
       "customer_id                  int64\n",
       "purchased_on        datetime64[ns]\n",
       "customer_origin             object\n",
       "customer_segment          category\n",
       "dtype: object"
      ]
     },
     "execution_count": 21,
     "metadata": {},
     "output_type": "execute_result"
    }
   ],
   "source": [
    "segm = []\n",
    "for i in range(df.shape[0]):\n",
    "    md = df.iloc[i]['customer_id'] % 7\n",
    "    if md < 3:\n",
    "        segm.append('GOLD')\n",
    "    elif md < 6:\n",
    "        segm.append('SILVER')\n",
    "    else:\n",
    "        segm.append('BRONZE')\n",
    "\n",
    "df['customer_segment'] = segm\n",
    "cat_type = pd.api.types.CategoricalDtype(categories=['BRONZE', 'SILVER', 'GOLD'], ordered=True)\n",
    "df['customer_segment'] = df['customer_segment'].astype(cat_type)\n",
    "df.dtypes"
   ]
  },
  {
   "cell_type": "code",
   "execution_count": 22,
   "metadata": {},
   "outputs": [],
   "source": [
    "units = []\n",
    "for i in range(df.shape[0]):\n",
    "    if df.iloc[i]['customer_segment'] == 'SILVER':\n",
    "        units.append(np.random.normal(90, 20))\n",
    "    elif df.iloc[i]['customer_segment'] == 'GOLD':\n",
    "        units.append(np.random.normal(110, 20))\n",
    "    else:\n",
    "        units.append(np.random.normal(70, 15))\n",
    "\n",
    "df['units_sold'] = units"
   ]
  },
  {
   "cell_type": "code",
   "execution_count": 23,
   "metadata": {},
   "outputs": [
    {
     "data": {
      "text/html": [
       "<div>\n",
       "<style scoped>\n",
       "    .dataframe tbody tr th:only-of-type {\n",
       "        vertical-align: middle;\n",
       "    }\n",
       "\n",
       "    .dataframe tbody tr th {\n",
       "        vertical-align: top;\n",
       "    }\n",
       "\n",
       "    .dataframe thead th {\n",
       "        text-align: right;\n",
       "    }\n",
       "</style>\n",
       "<table border=\"1\" class=\"dataframe\">\n",
       "  <thead>\n",
       "    <tr style=\"text-align: right;\">\n",
       "      <th></th>\n",
       "      <th>count</th>\n",
       "      <th>mean</th>\n",
       "      <th>std</th>\n",
       "      <th>min</th>\n",
       "      <th>25%</th>\n",
       "      <th>50%</th>\n",
       "      <th>75%</th>\n",
       "      <th>max</th>\n",
       "    </tr>\n",
       "    <tr>\n",
       "      <th>customer_origin</th>\n",
       "      <th></th>\n",
       "      <th></th>\n",
       "      <th></th>\n",
       "      <th></th>\n",
       "      <th></th>\n",
       "      <th></th>\n",
       "      <th></th>\n",
       "      <th></th>\n",
       "    </tr>\n",
       "  </thead>\n",
       "  <tbody>\n",
       "    <tr>\n",
       "      <th>capital</th>\n",
       "      <td>323.0</td>\n",
       "      <td>93.485299</td>\n",
       "      <td>24.587855</td>\n",
       "      <td>27.075688</td>\n",
       "      <td>75.400042</td>\n",
       "      <td>94.207711</td>\n",
       "      <td>111.222123</td>\n",
       "      <td>151.645029</td>\n",
       "    </tr>\n",
       "    <tr>\n",
       "      <th>misc</th>\n",
       "      <td>333.0</td>\n",
       "      <td>94.727575</td>\n",
       "      <td>23.687612</td>\n",
       "      <td>37.963034</td>\n",
       "      <td>76.720300</td>\n",
       "      <td>93.618241</td>\n",
       "      <td>111.488773</td>\n",
       "      <td>158.069372</td>\n",
       "    </tr>\n",
       "    <tr>\n",
       "      <th>rural</th>\n",
       "      <td>318.0</td>\n",
       "      <td>94.282282</td>\n",
       "      <td>24.189889</td>\n",
       "      <td>35.119045</td>\n",
       "      <td>77.323431</td>\n",
       "      <td>95.241256</td>\n",
       "      <td>111.043826</td>\n",
       "      <td>186.241605</td>\n",
       "    </tr>\n",
       "    <tr>\n",
       "      <th>urban</th>\n",
       "      <td>1026.0</td>\n",
       "      <td>96.689499</td>\n",
       "      <td>23.842697</td>\n",
       "      <td>34.438451</td>\n",
       "      <td>79.085487</td>\n",
       "      <td>97.131247</td>\n",
       "      <td>113.480793</td>\n",
       "      <td>166.871374</td>\n",
       "    </tr>\n",
       "  </tbody>\n",
       "</table>\n",
       "</div>"
      ],
      "text/plain": [
       "                  count       mean        std        min        25%  \\\n",
       "customer_origin                                                       \n",
       "capital           323.0  93.485299  24.587855  27.075688  75.400042   \n",
       "misc              333.0  94.727575  23.687612  37.963034  76.720300   \n",
       "rural             318.0  94.282282  24.189889  35.119045  77.323431   \n",
       "urban            1026.0  96.689499  23.842697  34.438451  79.085487   \n",
       "\n",
       "                       50%         75%         max  \n",
       "customer_origin                                     \n",
       "capital          94.207711  111.222123  151.645029  \n",
       "misc             93.618241  111.488773  158.069372  \n",
       "rural            95.241256  111.043826  186.241605  \n",
       "urban            97.131247  113.480793  166.871374  "
      ]
     },
     "execution_count": 23,
     "metadata": {},
     "output_type": "execute_result"
    }
   ],
   "source": [
    "df.groupby(df.customer_origin).units_sold.describe()"
   ]
  },
  {
   "cell_type": "code",
   "execution_count": 24,
   "metadata": {
    "scrolled": true
   },
   "outputs": [
    {
     "data": {
      "text/html": [
       "<div>\n",
       "<style scoped>\n",
       "    .dataframe tbody tr th:only-of-type {\n",
       "        vertical-align: middle;\n",
       "    }\n",
       "\n",
       "    .dataframe tbody tr th {\n",
       "        vertical-align: top;\n",
       "    }\n",
       "\n",
       "    .dataframe thead th {\n",
       "        text-align: right;\n",
       "    }\n",
       "</style>\n",
       "<table border=\"1\" class=\"dataframe\">\n",
       "  <thead>\n",
       "    <tr style=\"text-align: right;\">\n",
       "      <th></th>\n",
       "      <th>count</th>\n",
       "      <th>mean</th>\n",
       "      <th>std</th>\n",
       "      <th>min</th>\n",
       "      <th>25%</th>\n",
       "      <th>50%</th>\n",
       "      <th>75%</th>\n",
       "      <th>max</th>\n",
       "    </tr>\n",
       "    <tr>\n",
       "      <th>customer_segment</th>\n",
       "      <th></th>\n",
       "      <th></th>\n",
       "      <th></th>\n",
       "      <th></th>\n",
       "      <th></th>\n",
       "      <th></th>\n",
       "      <th></th>\n",
       "      <th></th>\n",
       "    </tr>\n",
       "  </thead>\n",
       "  <tbody>\n",
       "    <tr>\n",
       "      <th>BRONZE</th>\n",
       "      <td>266.0</td>\n",
       "      <td>69.501598</td>\n",
       "      <td>15.775313</td>\n",
       "      <td>27.075688</td>\n",
       "      <td>59.263005</td>\n",
       "      <td>68.362359</td>\n",
       "      <td>79.283764</td>\n",
       "      <td>117.545176</td>\n",
       "    </tr>\n",
       "    <tr>\n",
       "      <th>SILVER</th>\n",
       "      <td>867.0</td>\n",
       "      <td>89.480340</td>\n",
       "      <td>20.025986</td>\n",
       "      <td>33.899640</td>\n",
       "      <td>75.400042</td>\n",
       "      <td>89.410926</td>\n",
       "      <td>103.307290</td>\n",
       "      <td>162.321270</td>\n",
       "    </tr>\n",
       "    <tr>\n",
       "      <th>GOLD</th>\n",
       "      <td>867.0</td>\n",
       "      <td>109.409856</td>\n",
       "      <td>20.398933</td>\n",
       "      <td>41.261784</td>\n",
       "      <td>96.383780</td>\n",
       "      <td>109.467809</td>\n",
       "      <td>124.461036</td>\n",
       "      <td>186.241605</td>\n",
       "    </tr>\n",
       "  </tbody>\n",
       "</table>\n",
       "</div>"
      ],
      "text/plain": [
       "                  count        mean        std        min        25%  \\\n",
       "customer_segment                                                       \n",
       "BRONZE            266.0   69.501598  15.775313  27.075688  59.263005   \n",
       "SILVER            867.0   89.480340  20.025986  33.899640  75.400042   \n",
       "GOLD              867.0  109.409856  20.398933  41.261784  96.383780   \n",
       "\n",
       "                         50%         75%         max  \n",
       "customer_segment                                      \n",
       "BRONZE             68.362359   79.283764  117.545176  \n",
       "SILVER             89.410926  103.307290  162.321270  \n",
       "GOLD              109.467809  124.461036  186.241605  "
      ]
     },
     "execution_count": 24,
     "metadata": {},
     "output_type": "execute_result"
    }
   ],
   "source": [
    "df.groupby(df.customer_segment).units_sold.describe()"
   ]
  },
  {
   "cell_type": "code",
   "execution_count": 25,
   "metadata": {},
   "outputs": [],
   "source": [
    "df['revenue'] = df.units_sold.apply(lambda val: val * random.normalvariate(mu=10, sigma= 2.5))"
   ]
  },
  {
   "cell_type": "code",
   "execution_count": 26,
   "metadata": {},
   "outputs": [
    {
     "data": {
      "text/html": [
       "<div>\n",
       "<style scoped>\n",
       "    .dataframe tbody tr th:only-of-type {\n",
       "        vertical-align: middle;\n",
       "    }\n",
       "\n",
       "    .dataframe tbody tr th {\n",
       "        vertical-align: top;\n",
       "    }\n",
       "\n",
       "    .dataframe thead th {\n",
       "        text-align: right;\n",
       "    }\n",
       "</style>\n",
       "<table border=\"1\" class=\"dataframe\">\n",
       "  <thead>\n",
       "    <tr style=\"text-align: right;\">\n",
       "      <th></th>\n",
       "      <th>units_sold</th>\n",
       "      <th>revenue</th>\n",
       "    </tr>\n",
       "  </thead>\n",
       "  <tbody>\n",
       "    <tr>\n",
       "      <th>count</th>\n",
       "      <td>2000.000000</td>\n",
       "      <td>2000.000000</td>\n",
       "    </tr>\n",
       "    <tr>\n",
       "      <th>mean</th>\n",
       "      <td>95.462613</td>\n",
       "      <td>959.225051</td>\n",
       "    </tr>\n",
       "    <tr>\n",
       "      <th>std</th>\n",
       "      <td>24.011882</td>\n",
       "      <td>344.546278</td>\n",
       "    </tr>\n",
       "    <tr>\n",
       "      <th>min</th>\n",
       "      <td>27.075688</td>\n",
       "      <td>44.700551</td>\n",
       "    </tr>\n",
       "    <tr>\n",
       "      <th>25%</th>\n",
       "      <td>77.576658</td>\n",
       "      <td>707.147109</td>\n",
       "    </tr>\n",
       "    <tr>\n",
       "      <th>50%</th>\n",
       "      <td>95.872131</td>\n",
       "      <td>919.490568</td>\n",
       "    </tr>\n",
       "    <tr>\n",
       "      <th>75%</th>\n",
       "      <td>112.534651</td>\n",
       "      <td>1176.174762</td>\n",
       "    </tr>\n",
       "    <tr>\n",
       "      <th>max</th>\n",
       "      <td>186.241605</td>\n",
       "      <td>2450.181565</td>\n",
       "    </tr>\n",
       "  </tbody>\n",
       "</table>\n",
       "</div>"
      ],
      "text/plain": [
       "        units_sold      revenue\n",
       "count  2000.000000  2000.000000\n",
       "mean     95.462613   959.225051\n",
       "std      24.011882   344.546278\n",
       "min      27.075688    44.700551\n",
       "25%      77.576658   707.147109\n",
       "50%      95.872131   919.490568\n",
       "75%     112.534651  1176.174762\n",
       "max     186.241605  2450.181565"
      ]
     },
     "execution_count": 26,
     "metadata": {},
     "output_type": "execute_result"
    }
   ],
   "source": [
    "df[['units_sold','revenue']].describe()"
   ]
  },
  {
   "cell_type": "code",
   "execution_count": 29,
   "metadata": {},
   "outputs": [
    {
     "data": {
      "text/plain": [
       "111    1\n",
       "110    1\n",
       "Name: customer_segment, dtype: int64"
      ]
     },
     "execution_count": 29,
     "metadata": {},
     "output_type": "execute_result"
    }
   ],
   "source": [
    "df.groupby(df.customer_id, as_index=False).customer_segment.nunique().sort_values(ascending= False).head(2)"
   ]
  },
  {
   "cell_type": "code",
   "execution_count": 30,
   "metadata": {},
   "outputs": [
    {
     "data": {
      "text/html": [
       "<div>\n",
       "<style scoped>\n",
       "    .dataframe tbody tr th:only-of-type {\n",
       "        vertical-align: middle;\n",
       "    }\n",
       "\n",
       "    .dataframe tbody tr th {\n",
       "        vertical-align: top;\n",
       "    }\n",
       "\n",
       "    .dataframe thead th {\n",
       "        text-align: right;\n",
       "    }\n",
       "</style>\n",
       "<table border=\"1\" class=\"dataframe\">\n",
       "  <thead>\n",
       "    <tr style=\"text-align: right;\">\n",
       "      <th></th>\n",
       "      <th>customer_id</th>\n",
       "      <th>purchased_on</th>\n",
       "      <th>customer_origin</th>\n",
       "      <th>customer_segment</th>\n",
       "      <th>units_sold</th>\n",
       "      <th>revenue</th>\n",
       "    </tr>\n",
       "  </thead>\n",
       "  <tbody>\n",
       "    <tr>\n",
       "      <th>0</th>\n",
       "      <td>136</td>\n",
       "      <td>2018-01-04</td>\n",
       "      <td>rural</td>\n",
       "      <td>SILVER</td>\n",
       "      <td>89.583837</td>\n",
       "      <td>788.584596</td>\n",
       "    </tr>\n",
       "    <tr>\n",
       "      <th>1</th>\n",
       "      <td>156</td>\n",
       "      <td>2018-01-05</td>\n",
       "      <td>urban</td>\n",
       "      <td>GOLD</td>\n",
       "      <td>101.069314</td>\n",
       "      <td>1351.488000</td>\n",
       "    </tr>\n",
       "    <tr>\n",
       "      <th>2</th>\n",
       "      <td>163</td>\n",
       "      <td>2018-01-06</td>\n",
       "      <td>urban</td>\n",
       "      <td>GOLD</td>\n",
       "      <td>84.139210</td>\n",
       "      <td>1071.585249</td>\n",
       "    </tr>\n",
       "    <tr>\n",
       "      <th>3</th>\n",
       "      <td>151</td>\n",
       "      <td>2018-01-07</td>\n",
       "      <td>urban</td>\n",
       "      <td>SILVER</td>\n",
       "      <td>96.434458</td>\n",
       "      <td>782.135120</td>\n",
       "    </tr>\n",
       "    <tr>\n",
       "      <th>4</th>\n",
       "      <td>118</td>\n",
       "      <td>2018-01-08</td>\n",
       "      <td>rural</td>\n",
       "      <td>BRONZE</td>\n",
       "      <td>73.595090</td>\n",
       "      <td>623.010847</td>\n",
       "    </tr>\n",
       "  </tbody>\n",
       "</table>\n",
       "</div>"
      ],
      "text/plain": [
       "   customer_id purchased_on customer_origin customer_segment  units_sold  \\\n",
       "0          136   2018-01-04           rural           SILVER   89.583837   \n",
       "1          156   2018-01-05           urban             GOLD  101.069314   \n",
       "2          163   2018-01-06           urban             GOLD   84.139210   \n",
       "3          151   2018-01-07           urban           SILVER   96.434458   \n",
       "4          118   2018-01-08           rural           BRONZE   73.595090   \n",
       "\n",
       "       revenue  \n",
       "0   788.584596  \n",
       "1  1351.488000  \n",
       "2  1071.585249  \n",
       "3   782.135120  \n",
       "4   623.010847  "
      ]
     },
     "execution_count": 30,
     "metadata": {},
     "output_type": "execute_result"
    }
   ],
   "source": [
    "df.head()"
   ]
  },
  {
   "cell_type": "code",
   "execution_count": 31,
   "metadata": {},
   "outputs": [],
   "source": [
    "df.to_excel('sample_data.xlsx', encoding='UTF-8', index= False, float_format=\"%.2f\", sheet_name='sales_data')"
   ]
  },
  {
   "cell_type": "code",
   "execution_count": null,
   "metadata": {},
   "outputs": [],
   "source": []
  },
  {
   "cell_type": "code",
   "execution_count": null,
   "metadata": {},
   "outputs": [],
   "source": []
  },
  {
   "cell_type": "code",
   "execution_count": 32,
   "metadata": {},
   "outputs": [
    {
     "data": {
      "image/png": "[encoded data removed]",
      "text/plain": [
       "<matplotlib.figure.Figure at 0x7f7df5c83390>"
      ]
     },
     "metadata": {},
     "output_type": "display_data"
    }
   ],
   "source": [
    "df[['revenue']].plot(kind = 'hist', bins = 10)\n",
    "plt.show()"
   ]
  },
  {
   "cell_type": "code",
   "execution_count": 33,
   "metadata": {},
   "outputs": [
    {
     "data": {
      "image/png": "[encoded data removed]",
      "text/plain": [
       "<matplotlib.figure.Figure at 0x7f7e24288518>"
      ]
     },
     "metadata": {},
     "output_type": "display_data"
    }
   ],
   "source": [
    "df[['units_sold', 'revenue']].plot(x = 'units_sold', y = 'revenue', kind = 'scatter')\n",
    "plt.show()"
   ]
  },
  {
   "cell_type": "code",
   "execution_count": 34,
   "metadata": {},
   "outputs": [
    {
     "data": {
      "image/png": "[encoded data removed]",
      "text/plain": [
       "<matplotlib.figure.Figure at 0x7f7df55fb7f0>"
      ]
     },
     "metadata": {},
     "output_type": "display_data"
    }
   ],
   "source": [
    "df_units = df[['units_sold', 'customer_segment']]\n",
    "df_units.boxplot(by = 'customer_segment')\n",
    "plt.show()"
   ]
  },
  {
   "cell_type": "code",
   "execution_count": 35,
   "metadata": {},
   "outputs": [
    {
     "data": {
      "image/png": "[encoded data removed]",
      "text/plain": [
       "<matplotlib.figure.Figure at 0x7f7df55c0d30>"
      ]
     },
     "metadata": {},
     "output_type": "display_data"
    }
   ],
   "source": [
    "df_orig = df[['units_sold', 'customer_origin']]\n",
    "df_orig.boxplot(by = 'customer_origin')\n",
    "plt.show()"
   ]
  }
 ],
 "metadata": {
  "kernelspec": {
   "display_name": "Python 3",
   "language": "python",
   "name": "python3"
  },
  "language_info": {
   "codemirror_mode": {
    "name": "ipython",
    "version": 3
   },
   "file_extension": ".py",
   "mimetype": "text/x-python",
   "name": "python",
   "nbconvert_exporter": "python",
   "pygments_lexer": "ipython3",
   "version": "3.5.2"
  }
 },
 "nbformat": 4,
 "nbformat_minor": 2
}
